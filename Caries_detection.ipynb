{
  "nbformat": 4,
  "nbformat_minor": 0,
  "metadata": {
    "colab": {
      "name": "Caries detection.ipynb",
      "provenance": [],
      "collapsed_sections": []
    },
    "kernelspec": {
      "name": "python3",
      "display_name": "Python 3"
    },
    "language_info": {
      "name": "python"
    },
    "accelerator": "GPU"
  },
  "cells": [
    {
      "cell_type": "markdown",
      "metadata": {
        "id": "bgJeXh8Tj3_z"
      },
      "source": [
        "**DAB304-Healthcare Analytics - Dental Caries Detection using Neural Network**\n",
        "\n",
        "Section 002\n",
        "Group 5\n"
      ]
    },
    {
      "cell_type": "markdown",
      "metadata": {
        "id": "tl4xfV96ku2W"
      },
      "source": [
        "Name | Student ID\n",
        "--- | ---\n",
        "Mazhar Thobhani |  0769005\n",
        "Sayyam Deepak Shambhuwani | 0770565\n",
        "Manpreet Kaur | 0771048\n",
        "Ramanpreet Kaur | 0775310"
      ]
    },
    {
      "cell_type": "markdown",
      "metadata": {
        "id": "eqx-Gh1Nkh2L"
      },
      "source": [
        "**Importing the dataset and the required libraries**"
      ]
    },
    {
      "cell_type": "code",
      "metadata": {
        "colab": {
          "base_uri": "https://localhost:8080/"
        },
        "id": "Fl9qfopmj_8k",
        "outputId": "a071c7c6-1ece-42bc-874f-7e69195fa128"
      },
      "source": [
        "# mount the google drive to google colab\n",
        "from google.colab import drive\n",
        "drive.mount('/content/drive')"
      ],
      "execution_count": 1,
      "outputs": [
        {
          "output_type": "stream",
          "name": "stdout",
          "text": [
            "Mounted at /content/drive\n"
          ]
        }
      ]
    },
    {
      "cell_type": "code",
      "metadata": {
        "id": "c905Sj1gq3kz"
      },
      "source": [
        "# importing the relevant libraries\n",
        "import numpy as np\n",
        "import matplotlib.pyplot as plt\n",
        "import pandas as pd\n",
        "import seaborn as sns\n",
        "import keras\n",
        "import tensorflow as tf\n",
        "from tensorflow.keras.optimizers import Adam\n",
        "from tensorflow.keras import models, layers\n",
        "from keras.models import Sequential\n",
        "from keras.preprocessing import image\n",
        "from tensorflow.keras.applications.vgg16 import VGG16\n",
        "from sklearn.metrics import classification_report"
      ],
      "execution_count": 2,
      "outputs": []
    },
    {
      "cell_type": "markdown",
      "source": [
        "**Data Preprocessing**"
      ],
      "metadata": {
        "id": "8VslliUOiTPp"
      }
    },
    {
      "cell_type": "code",
      "metadata": {
        "colab": {
          "base_uri": "https://localhost:8080/"
        },
        "id": "oOn-8w6lnVVX",
        "outputId": "982771a1-a352-4750-dfb7-86a4fd013187"
      },
      "source": [
        "# Image Data Augmentation to create transformed versions of train images \n",
        "train_datagen = image.ImageDataGenerator(\n",
        "    rescale=1./255,\n",
        "shear_range = 0.2,\n",
        "    zoom_range = 0.2,\n",
        "    horizontal_flip = True,)\n",
        "# Importing the images from drive\n",
        "train_data = train_datagen.flow_from_directory(\n",
        "    directory = \"/content/drive/MyDrive/Colab Notebooks/Dataset/train/\", \n",
        "    target_size= (748, 512), \n",
        "    batch_size= 16, \n",
        ")"
      ],
      "execution_count": 3,
      "outputs": [
        {
          "output_type": "stream",
          "name": "stdout",
          "text": [
            "Found 191 images belonging to 2 classes.\n"
          ]
        }
      ]
    },
    {
      "cell_type": "code",
      "metadata": {
        "colab": {
          "base_uri": "https://localhost:8080/"
        },
        "id": "yRx4Rwx_rEx3",
        "outputId": "1551f1d1-1bcd-44c3-ede7-2bd549f696fe"
      },
      "source": [
        "# Importing the test images from drive\n",
        "test_data = train_datagen.flow_from_directory(\n",
        "    directory = \"/content/drive/MyDrive/Colab Notebooks/Dataset/test/\", \n",
        "    target_size= (748, 512), \n",
        "    batch_size= 16, \n",
        ")"
      ],
      "execution_count": 4,
      "outputs": [
        {
          "output_type": "stream",
          "name": "stdout",
          "text": [
            "Found 35 images belonging to 2 classes.\n"
          ]
        }
      ]
    },
    {
      "cell_type": "code",
      "metadata": {
        "colab": {
          "base_uri": "https://localhost:8080/"
        },
        "id": "fa_g_DCjrJ5K",
        "outputId": "73b0348d-af1a-4220-9f4b-10194cc54aac"
      },
      "source": [
        "# checking the categories\n",
        "\n",
        "test_data.class_indices"
      ],
      "execution_count": 5,
      "outputs": [
        {
          "output_type": "execute_result",
          "data": {
            "text/plain": [
              "{'caries': 0, 'healthy': 1}"
            ]
          },
          "metadata": {},
          "execution_count": 5
        }
      ]
    },
    {
      "cell_type": "code",
      "metadata": {
        "id": "wOGf9-wnrN1_"
      },
      "source": [
        "# splitting the labels and images from the training dataset\n",
        "total_img = len(train_data) \n",
        "\n",
        "X_train=np.concatenate([train_data.next()[0] for i in range(total_img)]) # images\n",
        "y_train=np.concatenate([train_data.next()[1] for i in range(total_img)]) # labels"
      ],
      "execution_count": 6,
      "outputs": []
    },
    {
      "cell_type": "code",
      "source": [
        "\n",
        "# splitting the labels and images from the training dataset\n",
        "total_img = len(test_data) \n",
        "\n",
        "X_test=np.concatenate([test_data.next()[0] for i in range(total_img)]) # images\n",
        "y_test=np.concatenate([test_data.next()[1] for i in range(total_img)]) # labels"
      ],
      "metadata": {
        "id": "6cDZywJ9t6MG"
      },
      "execution_count": 7,
      "outputs": []
    },
    {
      "cell_type": "code",
      "metadata": {
        "colab": {
          "base_uri": "https://localhost:8080/"
        },
        "id": "-CV6tkVOvV3k",
        "outputId": "ff09becb-6c8f-4230-8456-b50d62c9b2ff"
      },
      "source": [
        "# checking the dimesions of the train data\n",
        "X_train.shape"
      ],
      "execution_count": 8,
      "outputs": [
        {
          "output_type": "execute_result",
          "data": {
            "text/plain": [
              "(191, 748, 512, 3)"
            ]
          },
          "metadata": {},
          "execution_count": 8
        }
      ]
    },
    {
      "cell_type": "code",
      "metadata": {
        "colab": {
          "base_uri": "https://localhost:8080/"
        },
        "id": "76M9bcbnw6EH",
        "outputId": "5ad0a6a0-0a61-4c8f-8320-f7f351a15c91"
      },
      "source": [
        "# checking the dimension of test data\n",
        "y_train.shape"
      ],
      "execution_count": 9,
      "outputs": [
        {
          "output_type": "execute_result",
          "data": {
            "text/plain": [
              "(191, 2)"
            ]
          },
          "metadata": {},
          "execution_count": 9
        }
      ]
    },
    {
      "cell_type": "code",
      "metadata": {
        "colab": {
          "base_uri": "https://localhost:8080/",
          "height": 287
        },
        "id": "Q1Dn7R6drWkO",
        "outputId": "2cdd16d9-7210-4141-e744-06e7dd7c0f12"
      },
      "source": [
        "# Sample Image data \n",
        "import matplotlib.pyplot as plt\n",
        "\n",
        " \n",
        "plt.imshow(X_train[48], cmap='gray')"
      ],
      "execution_count": 10,
      "outputs": [
        {
          "output_type": "execute_result",
          "data": {
            "text/plain": [
              "<matplotlib.image.AxesImage at 0x7f7c4a21b690>"
            ]
          },
          "metadata": {},
          "execution_count": 10
        },
        {
          "output_type": "display_data",
          "data": {
            "image/png": "[encoded data removed]",
            "text/plain": [
              "<Figure size 432x288 with 1 Axes>"
            ]
          },
          "metadata": {
            "needs_background": "light"
          }
        }
      ]
    },
    {
      "cell_type": "markdown",
      "source": [
        "**Building the model**"
      ],
      "metadata": {
        "id": "FyN0w__0idcH"
      }
    },
    {
      "cell_type": "code",
      "metadata": {
        "id": "TAnA-O97NbKQ"
      },
      "source": [
        "# Baseline Initial Model\n",
        "model = Sequential()\n",
        "\n",
        "model.add(layers.Conv2D(filters = 32, kernel_size = (3,3), activation = \"relu\", input_shape = (748,512,3)))\n",
        "model.add(layers.MaxPool2D())\n",
        "model.add(layers.Dropout(0.25))\n",
        "model.add(layers.Conv2D(filters = 128, kernel_size = (3,3), activation = \"relu\"))\n",
        "model.add(layers.MaxPool2D())\n",
        "model.add(layers.Dropout(0.25))\n",
        "model.add(layers.Conv2D(filters = 64, kernel_size = (3,3), activation = \"relu\"))\n",
        "model.add(layers.MaxPool2D())\n",
        "model.add(layers.Dropout(0.25))\n",
        "model.add(layers.Flatten())\n",
        "model.add(layers.Dense(units = 2, activation = \"softmax\"))"
      ],
      "execution_count": 11,
      "outputs": []
    },
    {
      "cell_type": "code",
      "source": [
        "# Using EarlyStopping technique to automatically stop when loss of the model remains constant\n",
        "callback = keras.callbacks.EarlyStopping(monitor='loss', patience=3)"
      ],
      "metadata": {
        "id": "0TACeXBVltZM"
      },
      "execution_count": 12,
      "outputs": []
    },
    {
      "cell_type": "code",
      "metadata": {
        "colab": {
          "base_uri": "https://localhost:8080/"
        },
        "id": "xXGNMzphOb_X",
        "outputId": "f40ac173-064d-40ba-81b7-0019d96f1d77"
      },
      "source": [
        "# Summary of the model created\n",
        "model.summary()"
      ],
      "execution_count": 13,
      "outputs": [
        {
          "output_type": "stream",
          "name": "stdout",
          "text": [
            "Model: \"sequential\"\n",
            "_________________________________________________________________\n",
            " Layer (type)                Output Shape              Param #   \n",
            "=================================================================\n",
            " conv2d (Conv2D)             (None, 746, 510, 32)      896       \n",
            "                                                                 \n",
            " max_pooling2d (MaxPooling2D  (None, 373, 255, 32)     0         \n",
            " )                                                               \n",
            "                                                                 \n",
            " dropout (Dropout)           (None, 373, 255, 32)      0         \n",
            "                                                                 \n",
            " conv2d_1 (Conv2D)           (None, 371, 253, 128)     36992     \n",
            "                                                                 \n",
            " max_pooling2d_1 (MaxPooling  (None, 185, 126, 128)    0         \n",
            " 2D)                                                             \n",
            "                                                                 \n",
            " dropout_1 (Dropout)         (None, 185, 126, 128)     0         \n",
            "                                                                 \n",
            " conv2d_2 (Conv2D)           (None, 183, 124, 64)      73792     \n",
            "                                                                 \n",
            " max_pooling2d_2 (MaxPooling  (None, 91, 62, 64)       0         \n",
            " 2D)                                                             \n",
            "                                                                 \n",
            " dropout_2 (Dropout)         (None, 91, 62, 64)        0         \n",
            "                                                                 \n",
            " flatten (Flatten)           (None, 361088)            0         \n",
            "                                                                 \n",
            " dense (Dense)               (None, 2)                 722178    \n",
            "                                                                 \n",
            "=================================================================\n",
            "Total params: 833,858\n",
            "Trainable params: 833,858\n",
            "Non-trainable params: 0\n",
            "_________________________________________________________________\n"
          ]
        }
      ]
    },
    {
      "cell_type": "code",
      "metadata": {
        "id": "GApD0mk_Oohg"
      },
      "source": [
        "# Compiling the model by defining Loss, Optimizer and Metrics\n",
        "model.compile(loss=\"binary_crossentropy\", optimizer=\"adam\", metrics = [\"accuracy\"])"
      ],
      "execution_count": 14,
      "outputs": []
    },
    {
      "cell_type": "code",
      "metadata": {
        "colab": {
          "base_uri": "https://localhost:8080/"
        },
        "id": "_96KLURqOdem",
        "outputId": "2bb791a1-0e04-4f89-d9c6-e469d6fa8fe1"
      },
      "source": [
        "# Fitting the model (training and validation phase in multiple epochs)\n",
        "hist = model.fit(train_data, epochs=50, batch_size= 30, validation_data=test_data, callbacks=[callback])"
      ],
      "execution_count": 15,
      "outputs": [
        {
          "output_type": "stream",
          "name": "stdout",
          "text": [
            "Epoch 1/50\n",
            "12/12 [==============================] - 44s 2s/step - loss: 1.8671 - accuracy: 0.4974 - val_loss: 0.6932 - val_accuracy: 0.4286\n",
            "Epoch 2/50\n",
            "12/12 [==============================] - 22s 2s/step - loss: 0.6931 - accuracy: 0.4712 - val_loss: 0.6925 - val_accuracy: 0.5143\n",
            "Epoch 3/50\n",
            "12/12 [==============================] - 23s 2s/step - loss: 0.6920 - accuracy: 0.5445 - val_loss: 0.6890 - val_accuracy: 0.6571\n",
            "Epoch 4/50\n",
            "12/12 [==============================] - 23s 2s/step - loss: 0.6739 - accuracy: 0.6021 - val_loss: 0.6576 - val_accuracy: 0.5714\n",
            "Epoch 5/50\n",
            "12/12 [==============================] - 26s 2s/step - loss: 0.6575 - accuracy: 0.5707 - val_loss: 0.6766 - val_accuracy: 0.6857\n",
            "Epoch 6/50\n",
            "12/12 [==============================] - 22s 2s/step - loss: 0.7153 - accuracy: 0.6387 - val_loss: 0.6300 - val_accuracy: 0.6857\n",
            "Epoch 7/50\n",
            "12/12 [==============================] - 22s 2s/step - loss: 0.6179 - accuracy: 0.6702 - val_loss: 0.6209 - val_accuracy: 0.7429\n",
            "Epoch 8/50\n",
            "12/12 [==============================] - 22s 2s/step - loss: 0.5382 - accuracy: 0.7696 - val_loss: 0.5707 - val_accuracy: 0.7429\n",
            "Epoch 9/50\n",
            "12/12 [==============================] - 24s 2s/step - loss: 0.4554 - accuracy: 0.7906 - val_loss: 0.5776 - val_accuracy: 0.7429\n",
            "Epoch 10/50\n",
            "12/12 [==============================] - 23s 2s/step - loss: 0.3840 - accuracy: 0.8586 - val_loss: 0.6158 - val_accuracy: 0.7714\n",
            "Epoch 11/50\n",
            "12/12 [==============================] - 22s 2s/step - loss: 0.3874 - accuracy: 0.8063 - val_loss: 0.5067 - val_accuracy: 0.7429\n",
            "Epoch 12/50\n",
            "12/12 [==============================] - 22s 2s/step - loss: 0.5869 - accuracy: 0.8220 - val_loss: 0.6360 - val_accuracy: 0.8571\n",
            "Epoch 13/50\n",
            "12/12 [==============================] - 22s 2s/step - loss: 0.4780 - accuracy: 0.8901 - val_loss: 0.4768 - val_accuracy: 0.9143\n"
          ]
        }
      ]
    },
    {
      "cell_type": "code",
      "source": [
        "# Importing Confusion Matrix and Accuracy Score\n",
        "from sklearn.metrics import confusion_matrix, accuracy_score"
      ],
      "metadata": {
        "id": "FpapCKyduNIF"
      },
      "execution_count": 16,
      "outputs": []
    },
    {
      "cell_type": "code",
      "source": [
        "# Testing the model\n",
        "y_pred = np.argmax(model.predict(X_test), axis=1) # predict method allows to predict values from test dataset. \n",
        "y_true = np.argmax(y_test, axis=1)\n",
        "\n",
        "\n",
        "# Checking the accuracy score of the model by comparing the predicted value with the actual values. \n",
        "test_acc = accuracy_score(y_pred, y_true)\n",
        "print('test_acc:', test_acc)\n",
        "\n",
        "# Creating the confusion matrix to describe the performance of model\n",
        "cm = confusion_matrix(y_true, y_pred)"
      ],
      "metadata": {
        "colab": {
          "base_uri": "https://localhost:8080/"
        },
        "id": "S3lhQ0oGortR",
        "outputId": "e46aab9b-e3b1-4526-8d4a-9b6a74c63b50"
      },
      "execution_count": 17,
      "outputs": [
        {
          "output_type": "stream",
          "name": "stdout",
          "text": [
            "test_acc: 0.4857142857142857\n"
          ]
        }
      ]
    },
    {
      "cell_type": "code",
      "source": [
        "cm"
      ],
      "metadata": {
        "colab": {
          "base_uri": "https://localhost:8080/"
        },
        "id": "qIQGLdJluPmT",
        "outputId": "835d50af-6cf6-4c8d-a024-f917b315b207"
      },
      "execution_count": 18,
      "outputs": [
        {
          "output_type": "execute_result",
          "data": {
            "text/plain": [
              "array([[ 8, 12],\n",
              "       [ 6,  9]])"
            ]
          },
          "metadata": {},
          "execution_count": 18
        }
      ]
    },
    {
      "cell_type": "code",
      "source": [
        "#Visualizing the results of Confusion matrix\n",
        "sns.heatmap(cm, annot = True, fmt = 'g')\n",
        "plt.title(\"Confusion Matrix\", fontsize = 20)"
      ],
      "metadata": {
        "colab": {
          "base_uri": "https://localhost:8080/",
          "height": 305
        },
        "id": "h5qkvcUHeFNU",
        "outputId": "4859a7e7-e253-44f6-b29b-c62c6b936191"
      },
      "execution_count": 19,
      "outputs": [
        {
          "output_type": "execute_result",
          "data": {
            "text/plain": [
              "Text(0.5, 1.0, 'Confussion Matrix')"
            ]
          },
          "metadata": {},
          "execution_count": 19
        },
        {
          "output_type": "display_data",
          "data": {
            "image/png": "[encoded data removed]",
            "text/plain": [
              "<Figure size 432x288 with 2 Axes>"
            ]
          },
          "metadata": {
            "needs_background": "light"
          }
        }
      ]
    },
    {
      "cell_type": "code",
      "source": [
        "# Creating target Names for Classification Report\n",
        "target_names = ['caries', 'healthy']"
      ],
      "metadata": {
        "id": "n5JIJouhBwkw"
      },
      "execution_count": 20,
      "outputs": []
    },
    {
      "cell_type": "code",
      "source": [
        "# Print Classification Report of baseline model\n",
        "print(classification_report(y_true, y_pred, target_names=target_names))"
      ],
      "metadata": {
        "id": "QJY3tI2e8oc5",
        "colab": {
          "base_uri": "https://localhost:8080/"
        },
        "outputId": "2efacae4-75dd-47aa-c6ae-7194220c28ee"
      },
      "execution_count": 21,
      "outputs": [
        {
          "output_type": "stream",
          "name": "stdout",
          "text": [
            "              precision    recall  f1-score   support\n",
            "\n",
            "      caries       0.57      0.40      0.47        20\n",
            "     healthy       0.43      0.60      0.50        15\n",
            "\n",
            "    accuracy                           0.49        35\n",
            "   macro avg       0.50      0.50      0.49        35\n",
            "weighted avg       0.51      0.49      0.48        35\n",
            "\n"
          ]
        }
      ]
    },
    {
      "cell_type": "code",
      "source": [
        "# Creating a plot to show the accuracy summary of the predicted values.\n",
        "def acc_plot(hist): \n",
        "  plt.plot(range(1, len(hist.history['accuracy']) + 1), hist.history['accuracy'])\n",
        "  plt.plot(range(1, len(hist.history['val_accuracy']) + 1), hist.history['val_accuracy'])\n",
        "  plt.title('model accuracy')\n",
        "  plt.ylabel('accuracy')\n",
        "  plt.xlabel('epoch')\n",
        "  plt.xticks(np.arange(2,21, 2.0))\n",
        "  plt.legend(['train', 'valid'], loc='upper left')\n",
        "  plt.show()\n",
        "\n",
        "\n",
        "# creating a plot to show loss values\n",
        "def loss_plot(hist):\n",
        "  plt.plot(range(1, len(hist.history['loss']) + 1), hist.history['loss'])\n",
        "  plt.plot(range(1, len(hist.history['val_loss']) + 1), hist.history['val_loss'])\n",
        "  plt.title('model loss')\n",
        "  plt.ylabel('loss')\n",
        "  plt.xlabel('epoch')\n",
        "  plt.xticks(np.arange(2,21, 2.0))\n",
        "  plt.legend(['train', 'valid'], loc='upper left')\n",
        "  plt.show()"
      ],
      "metadata": {
        "id": "_qPcUxljoqRC"
      },
      "execution_count": 22,
      "outputs": []
    },
    {
      "cell_type": "code",
      "source": [
        "# Plotting graph for Accuracy vs Epoch\n",
        "acc_plot(hist)"
      ],
      "metadata": {
        "id": "F5pHc-fuocRf",
        "colab": {
          "base_uri": "https://localhost:8080/",
          "height": 295
        },
        "outputId": "71fee403-af8e-46ec-e7f3-60a4ba05602b"
      },
      "execution_count": 23,
      "outputs": [
        {
          "output_type": "display_data",
          "data": {
            "image/png": "[encoded data removed]",
            "text/plain": [
              "<Figure size 432x288 with 1 Axes>"
            ]
          },
          "metadata": {
            "needs_background": "light"
          }
        }
      ]
    },
    {
      "cell_type": "code",
      "source": [
        "# Plotting graph for Loss vs Epoch\n",
        "loss_plot(hist)"
      ],
      "metadata": {
        "colab": {
          "base_uri": "https://localhost:8080/",
          "height": 295
        },
        "id": "fVuLumdH-iKm",
        "outputId": "5ebf7c27-8500-42be-cb35-99a3c705e6e7"
      },
      "execution_count": 24,
      "outputs": [
        {
          "output_type": "display_data",
          "data": {
            "image/png": "[encoded data removed]",
            "text/plain": [
              "<Figure size 432x288 with 1 Axes>"
            ]
          },
          "metadata": {
            "needs_background": "light"
          }
        }
      ]
    },
    {
      "cell_type": "code",
      "metadata": {
        "colab": {
          "base_uri": "https://localhost:8080/"
        },
        "id": "xaRUi-skBOpa",
        "outputId": "1fc20ae3-e314-4449-c809-8038140a57b9"
      },
      "source": [
        "# Installing keras-tuner\n",
        "# !pip install keras-tuner"
      ],
      "execution_count": 25,
      "outputs": [
        {
          "output_type": "stream",
          "name": "stdout",
          "text": [
            "Collecting keras-tuner\n",
            "  Downloading keras_tuner-1.1.0-py3-none-any.whl (98 kB)\n",
            "\u001b[?25l\r\u001b[K     |███▍                            | 10 kB 8.6 MB/s eta 0:00:01\r\u001b[K     |██████▊                         | 20 kB 11.9 MB/s eta 0:00:01\r\u001b[K     |██████████                      | 30 kB 15.6 MB/s eta 0:00:01\r\u001b[K     |█████████████▍                  | 40 kB 16.8 MB/s eta 0:00:01\r\u001b[K     |████████████████▊               | 51 kB 5.7 MB/s eta 0:00:01\r\u001b[K     |████████████████████            | 61 kB 6.1 MB/s eta 0:00:01\r\u001b[K     |███████████████████████▍        | 71 kB 5.6 MB/s eta 0:00:01\r\u001b[K     |██████████████████████████▊     | 81 kB 6.2 MB/s eta 0:00:01\r\u001b[K     |██████████████████████████████  | 92 kB 6.6 MB/s eta 0:00:01\r\u001b[K     |████████████████████████████████| 98 kB 3.8 MB/s \n",
            "\u001b[?25hRequirement already satisfied: requests in /usr/local/lib/python3.7/dist-packages (from keras-tuner) (2.23.0)\n",
            "Requirement already satisfied: ipython in /usr/local/lib/python3.7/dist-packages (from keras-tuner) (5.5.0)\n",
            "Collecting kt-legacy\n",
            "  Downloading kt_legacy-1.0.4-py3-none-any.whl (9.6 kB)\n",
            "Requirement already satisfied: packaging in /usr/local/lib/python3.7/dist-packages (from keras-tuner) (21.3)\n",
            "Requirement already satisfied: scipy in /usr/local/lib/python3.7/dist-packages (from keras-tuner) (1.4.1)\n",
            "Requirement already satisfied: tensorboard in /usr/local/lib/python3.7/dist-packages (from keras-tuner) (2.7.0)\n",
            "Requirement already satisfied: numpy in /usr/local/lib/python3.7/dist-packages (from keras-tuner) (1.19.5)\n",
            "Requirement already satisfied: pygments in /usr/local/lib/python3.7/dist-packages (from ipython->keras-tuner) (2.6.1)\n",
            "Requirement already satisfied: simplegeneric>0.8 in /usr/local/lib/python3.7/dist-packages (from ipython->keras-tuner) (0.8.1)\n",
            "Requirement already satisfied: traitlets>=4.2 in /usr/local/lib/python3.7/dist-packages (from ipython->keras-tuner) (5.1.1)\n",
            "Requirement already satisfied: pexpect in /usr/local/lib/python3.7/dist-packages (from ipython->keras-tuner) (4.8.0)\n",
            "Requirement already satisfied: decorator in /usr/local/lib/python3.7/dist-packages (from ipython->keras-tuner) (4.4.2)\n",
            "Requirement already satisfied: pickleshare in /usr/local/lib/python3.7/dist-packages (from ipython->keras-tuner) (0.7.5)\n",
            "Requirement already satisfied: setuptools>=18.5 in /usr/local/lib/python3.7/dist-packages (from ipython->keras-tuner) (57.4.0)\n",
            "Requirement already satisfied: prompt-toolkit<2.0.0,>=1.0.4 in /usr/local/lib/python3.7/dist-packages (from ipython->keras-tuner) (1.0.18)\n",
            "Requirement already satisfied: wcwidth in /usr/local/lib/python3.7/dist-packages (from prompt-toolkit<2.0.0,>=1.0.4->ipython->keras-tuner) (0.2.5)\n",
            "Requirement already satisfied: six>=1.9.0 in /usr/local/lib/python3.7/dist-packages (from prompt-toolkit<2.0.0,>=1.0.4->ipython->keras-tuner) (1.15.0)\n",
            "Requirement already satisfied: pyparsing!=3.0.5,>=2.0.2 in /usr/local/lib/python3.7/dist-packages (from packaging->keras-tuner) (3.0.6)\n",
            "Requirement already satisfied: ptyprocess>=0.5 in /usr/local/lib/python3.7/dist-packages (from pexpect->ipython->keras-tuner) (0.7.0)\n",
            "Requirement already satisfied: certifi>=2017.4.17 in /usr/local/lib/python3.7/dist-packages (from requests->keras-tuner) (2021.10.8)\n",
            "Requirement already satisfied: idna<3,>=2.5 in /usr/local/lib/python3.7/dist-packages (from requests->keras-tuner) (2.10)\n",
            "Requirement already satisfied: urllib3!=1.25.0,!=1.25.1,<1.26,>=1.21.1 in /usr/local/lib/python3.7/dist-packages (from requests->keras-tuner) (1.24.3)\n",
            "Requirement already satisfied: chardet<4,>=3.0.2 in /usr/local/lib/python3.7/dist-packages (from requests->keras-tuner) (3.0.4)\n",
            "Requirement already satisfied: werkzeug>=0.11.15 in /usr/local/lib/python3.7/dist-packages (from tensorboard->keras-tuner) (1.0.1)\n",
            "Requirement already satisfied: google-auth-oauthlib<0.5,>=0.4.1 in /usr/local/lib/python3.7/dist-packages (from tensorboard->keras-tuner) (0.4.6)\n",
            "Requirement already satisfied: protobuf>=3.6.0 in /usr/local/lib/python3.7/dist-packages (from tensorboard->keras-tuner) (3.17.3)\n",
            "Requirement already satisfied: markdown>=2.6.8 in /usr/local/lib/python3.7/dist-packages (from tensorboard->keras-tuner) (3.3.6)\n",
            "Requirement already satisfied: google-auth<3,>=1.6.3 in /usr/local/lib/python3.7/dist-packages (from tensorboard->keras-tuner) (1.35.0)\n",
            "Requirement already satisfied: tensorboard-data-server<0.7.0,>=0.6.0 in /usr/local/lib/python3.7/dist-packages (from tensorboard->keras-tuner) (0.6.1)\n",
            "Requirement already satisfied: grpcio>=1.24.3 in /usr/local/lib/python3.7/dist-packages (from tensorboard->keras-tuner) (1.42.0)\n",
            "Requirement already satisfied: tensorboard-plugin-wit>=1.6.0 in /usr/local/lib/python3.7/dist-packages (from tensorboard->keras-tuner) (1.8.0)\n",
            "Requirement already satisfied: absl-py>=0.4 in /usr/local/lib/python3.7/dist-packages (from tensorboard->keras-tuner) (0.12.0)\n",
            "Requirement already satisfied: wheel>=0.26 in /usr/local/lib/python3.7/dist-packages (from tensorboard->keras-tuner) (0.37.0)\n",
            "Requirement already satisfied: cachetools<5.0,>=2.0.0 in /usr/local/lib/python3.7/dist-packages (from google-auth<3,>=1.6.3->tensorboard->keras-tuner) (4.2.4)\n",
            "Requirement already satisfied: pyasn1-modules>=0.2.1 in /usr/local/lib/python3.7/dist-packages (from google-auth<3,>=1.6.3->tensorboard->keras-tuner) (0.2.8)\n",
            "Requirement already satisfied: rsa<5,>=3.1.4 in /usr/local/lib/python3.7/dist-packages (from google-auth<3,>=1.6.3->tensorboard->keras-tuner) (4.8)\n",
            "Requirement already satisfied: requests-oauthlib>=0.7.0 in /usr/local/lib/python3.7/dist-packages (from google-auth-oauthlib<0.5,>=0.4.1->tensorboard->keras-tuner) (1.3.0)\n",
            "Requirement already satisfied: importlib-metadata>=4.4 in /usr/local/lib/python3.7/dist-packages (from markdown>=2.6.8->tensorboard->keras-tuner) (4.8.2)\n",
            "Requirement already satisfied: zipp>=0.5 in /usr/local/lib/python3.7/dist-packages (from importlib-metadata>=4.4->markdown>=2.6.8->tensorboard->keras-tuner) (3.6.0)\n",
            "Requirement already satisfied: typing-extensions>=3.6.4 in /usr/local/lib/python3.7/dist-packages (from importlib-metadata>=4.4->markdown>=2.6.8->tensorboard->keras-tuner) (3.10.0.2)\n",
            "Requirement already satisfied: pyasn1<0.5.0,>=0.4.6 in /usr/local/lib/python3.7/dist-packages (from pyasn1-modules>=0.2.1->google-auth<3,>=1.6.3->tensorboard->keras-tuner) (0.4.8)\n",
            "Requirement already satisfied: oauthlib>=3.0.0 in /usr/local/lib/python3.7/dist-packages (from requests-oauthlib>=0.7.0->google-auth-oauthlib<0.5,>=0.4.1->tensorboard->keras-tuner) (3.1.1)\n",
            "Installing collected packages: kt-legacy, keras-tuner\n",
            "Successfully installed keras-tuner-1.1.0 kt-legacy-1.0.4\n"
          ]
        }
      ]
    },
    {
      "cell_type": "code",
      "metadata": {
        "id": "Knr9PFUsBZCF"
      },
      "source": [
        "# Importing Libraries\n",
        "import tensorflow as tf\n",
        "from tensorflow import keras\n",
        "import keras_tuner as kt"
      ],
      "execution_count": 26,
      "outputs": []
    },
    {
      "cell_type": "code",
      "metadata": {
        "id": "O89aoSVFy0Yb"
      },
      "source": [
        "# Defining a function of the Model\n",
        "def model_builder(hp):\n",
        "  '''\n",
        "  Args:\n",
        "    hp - Keras tuner object\n",
        "  '''\n",
        "  model = Sequential()\n",
        "  model.add(layers.Conv2D(filters = 32, kernel_size = (3,3), activation = \"relu\", input_shape = (748,512,3)))\n",
        "  model.add(layers.MaxPool2D())\n",
        "  model.add(layers.Dropout(0.25))\n",
        "  model.add(layers.Conv2D(filters = 128, kernel_size = (3,3), activation = \"relu\"))\n",
        "  model.add(layers.MaxPool2D())\n",
        "  model.add(layers.Dropout(0.25))\n",
        "  model.add(layers.Conv2D(filters = 64, kernel_size = (3,3), activation = \"relu\"))\n",
        "  model.add(layers.MaxPool2D())\n",
        "  model.add(layers.Dropout(0.25))\n",
        "  model.add(layers.Flatten())\n",
        "  model.add(layers.Dense(units = 2, activation = \"softmax\"))\n",
        "  hp_learning_rate = hp.Choice('learning_rate', values=[1e-2, 1e-3, 1e-4])\n",
        "  model.compile(optimizer=keras.optimizers.Adam(learning_rate=hp_learning_rate),\n",
        "                loss=\"binary_crossentropy\",\n",
        "                metrics=['accuracy']) # Compiling the Model\n",
        "  return model"
      ],
      "execution_count": 27,
      "outputs": []
    },
    {
      "cell_type": "code",
      "source": [
        "# Instantiate the tuner\n",
        "tuner = kt.Hyperband(model_builder, \n",
        "                     objective='val_accuracy', \n",
        "max_epochs=10,\n",
        "factor=3, \n",
        "directory='dir' \n",
        ")"
      ],
      "metadata": {
        "id": "xIg1uyF-7dN9"
      },
      "execution_count": 28,
      "outputs": []
    },
    {
      "cell_type": "code",
      "source": [
        "# Summary\n",
        "tuner.search_space_summary()"
      ],
      "metadata": {
        "colab": {
          "base_uri": "https://localhost:8080/"
        },
        "id": "z1P-IbtH7gaR",
        "outputId": "3d3c1cfe-eaad-47fa-9667-aee445efe6cc"
      },
      "execution_count": 29,
      "outputs": [
        {
          "output_type": "stream",
          "name": "stdout",
          "text": [
            "Search space summary\n",
            "Default search space size: 1\n",
            "learning_rate (Choice)\n",
            "{'default': 0.01, 'conditions': [], 'values': [0.01, 0.001, 0.0001], 'ordered': True}\n"
          ]
        }
      ]
    },
    {
      "cell_type": "code",
      "source": [
        "stop_early = tf.keras.callbacks.EarlyStopping(monitor='val_loss', patience=5)\n",
        "# Perform hypertuning on baseline model\n",
        "tuner.search(train_data, epochs=10, validation_data=test_data, callbacks=[stop_early])"
      ],
      "metadata": {
        "colab": {
          "base_uri": "https://localhost:8080/"
        },
        "id": "ZxzVq5Zt7eFm",
        "outputId": "bcf2ca57-1198-40f9-ed85-4dbd011dfddc"
      },
      "execution_count": 30,
      "outputs": [
        {
          "output_type": "stream",
          "name": "stdout",
          "text": [
            "Trial 3 Complete [00h 00m 51s]\n",
            "val_accuracy: 0.5714285969734192\n",
            "\n",
            "Best val_accuracy So Far: 0.8285714387893677\n",
            "Total elapsed time: 00h 02m 50s\n",
            "INFO:tensorflow:Oracle triggered exit\n"
          ]
        }
      ]
    },
    {
      "cell_type": "code",
      "source": [
        "# Get Optimal hyperparameter\n",
        "best_hp=tuner.get_best_hyperparameters()[0]"
      ],
      "metadata": {
        "id": "QNgZzV617_Y8"
      },
      "execution_count": 31,
      "outputs": []
    },
    {
      "cell_type": "code",
      "source": [
        "# Build the model with the optimal hyperparameters\n",
        "h_model = tuner.hypermodel.build(best_hp)\n",
        "h_model.summary() # Summary of the Model\n",
        "hist1 = h_model.fit(train_data, epochs=10, validation_data=test_data) # Fitting the Model"
      ],
      "metadata": {
        "colab": {
          "base_uri": "https://localhost:8080/"
        },
        "id": "76hR0UCM7my-",
        "outputId": "07fa51e0-487f-486d-e5e2-3903fb309885"
      },
      "execution_count": 32,
      "outputs": [
        {
          "output_type": "stream",
          "name": "stdout",
          "text": [
            "Model: \"sequential_1\"\n",
            "_________________________________________________________________\n",
            " Layer (type)                Output Shape              Param #   \n",
            "=================================================================\n",
            " conv2d_3 (Conv2D)           (None, 746, 510, 32)      896       \n",
            "                                                                 \n",
            " max_pooling2d_3 (MaxPooling  (None, 373, 255, 32)     0         \n",
            " 2D)                                                             \n",
            "                                                                 \n",
            " dropout_3 (Dropout)         (None, 373, 255, 32)      0         \n",
            "                                                                 \n",
            " conv2d_4 (Conv2D)           (None, 371, 253, 128)     36992     \n",
            "                                                                 \n",
            " max_pooling2d_4 (MaxPooling  (None, 185, 126, 128)    0         \n",
            " 2D)                                                             \n",
            "                                                                 \n",
            " dropout_4 (Dropout)         (None, 185, 126, 128)     0         \n",
            "                                                                 \n",
            " conv2d_5 (Conv2D)           (None, 183, 124, 64)      73792     \n",
            "                                                                 \n",
            " max_pooling2d_5 (MaxPooling  (None, 91, 62, 64)       0         \n",
            " 2D)                                                             \n",
            "                                                                 \n",
            " dropout_5 (Dropout)         (None, 91, 62, 64)        0         \n",
            "                                                                 \n",
            " flatten_1 (Flatten)         (None, 361088)            0         \n",
            "                                                                 \n",
            " dense_1 (Dense)             (None, 2)                 722178    \n",
            "                                                                 \n",
            "=================================================================\n",
            "Total params: 833,858\n",
            "Trainable params: 833,858\n",
            "Non-trainable params: 0\n",
            "_________________________________________________________________\n",
            "Epoch 1/10\n",
            "12/12 [==============================] - 25s 2s/step - loss: 1.7029 - accuracy: 0.5550 - val_loss: 0.6932 - val_accuracy: 0.4286\n",
            "Epoch 2/10\n",
            "12/12 [==============================] - 32s 3s/step - loss: 0.6940 - accuracy: 0.4764 - val_loss: 0.6931 - val_accuracy: 0.4286\n",
            "Epoch 3/10\n",
            "12/12 [==============================] - 25s 2s/step - loss: 0.6928 - accuracy: 0.5550 - val_loss: 0.6925 - val_accuracy: 0.8000\n",
            "Epoch 4/10\n",
            "12/12 [==============================] - 27s 2s/step - loss: 0.6888 - accuracy: 0.5550 - val_loss: 0.6690 - val_accuracy: 0.6857\n",
            "Epoch 5/10\n",
            "12/12 [==============================] - 22s 2s/step - loss: 0.6232 - accuracy: 0.6754 - val_loss: 0.6711 - val_accuracy: 0.6857\n",
            "Epoch 6/10\n",
            "12/12 [==============================] - 22s 2s/step - loss: 0.5264 - accuracy: 0.7068 - val_loss: 0.5754 - val_accuracy: 0.6571\n",
            "Epoch 7/10\n",
            "12/12 [==============================] - 22s 2s/step - loss: 0.3928 - accuracy: 0.8220 - val_loss: 0.5546 - val_accuracy: 0.7429\n",
            "Epoch 8/10\n",
            "12/12 [==============================] - 22s 2s/step - loss: 0.3466 - accuracy: 0.8377 - val_loss: 0.5943 - val_accuracy: 0.6857\n",
            "Epoch 9/10\n",
            "12/12 [==============================] - 33s 3s/step - loss: 0.3293 - accuracy: 0.8691 - val_loss: 0.5065 - val_accuracy: 0.8000\n",
            "Epoch 10/10\n",
            "12/12 [==============================] - 22s 2s/step - loss: 0.2506 - accuracy: 0.8848 - val_loss: 0.5857 - val_accuracy: 0.8571\n"
          ]
        }
      ]
    },
    {
      "cell_type": "code",
      "metadata": {
        "colab": {
          "base_uri": "https://localhost:8080/"
        },
        "id": "o4v7vBH7Iaqc",
        "outputId": "cdc44db9-2967-4bf2-cf7e-5b49525a0d7a"
      },
      "source": [
        "h_eval_dict = h_model.evaluate(X_test, y_test, return_dict=True)"
      ],
      "execution_count": 33,
      "outputs": [
        {
          "output_type": "stream",
          "name": "stdout",
          "text": [
            "2/2 [==============================] - 1s 72ms/step - loss: 1.1927 - accuracy: 0.4000\n"
          ]
        }
      ]
    },
    {
      "cell_type": "code",
      "source": [
        "# Visualizing the accuracy of hypertuned model\n",
        "acc_plot(hist1)"
      ],
      "metadata": {
        "colab": {
          "base_uri": "https://localhost:8080/",
          "height": 295
        },
        "id": "enPrpf12CD9B",
        "outputId": "ff11b0b7-cdb6-42c1-c433-b34024b34f68"
      },
      "execution_count": 34,
      "outputs": [
        {
          "output_type": "display_data",
          "data": {
            "image/png": "[encoded data removed]",
            "text/plain": [
              "<Figure size 432x288 with 1 Axes>"
            ]
          },
          "metadata": {
            "needs_background": "light"
          }
        }
      ]
    },
    {
      "cell_type": "code",
      "source": [
        "# Visualizing the loss of hypertuned model\n",
        "loss_plot(hist1)"
      ],
      "metadata": {
        "colab": {
          "base_uri": "https://localhost:8080/",
          "height": 295
        },
        "id": "nHPpt7suGOjH",
        "outputId": "57c2476c-b7b3-4ab2-878c-5b5e853083a2"
      },
      "execution_count": 35,
      "outputs": [
        {
          "output_type": "display_data",
          "data": {
            "image/png": "[encoded data removed]",
            "text/plain": [
              "<Figure size 432x288 with 1 Axes>"
            ]
          },
          "metadata": {
            "needs_background": "light"
          }
        }
      ]
    },
    {
      "cell_type": "code",
      "source": [
        "# Testing the model\n",
        "y_pred = np.argmax(h_model.predict(X_test), axis=1) # predict method allows to predict values from test dataset. \n",
        "y_true = np.argmax(y_test, axis=1)\n",
        "\n",
        "\n",
        "# Checking the accuracy score of the model by comparing the predicted value with the actual values. \n",
        "test_acc = accuracy_score(y_pred, y_true)\n",
        "print('test_acc:', test_acc)\n",
        "\n",
        "# Creating a confusion matrix to describe the performance of model\n",
        "cm2 = confusion_matrix(y_true, y_pred)"
      ],
      "metadata": {
        "colab": {
          "base_uri": "https://localhost:8080/"
        },
        "id": "KvqLmyKc_LtQ",
        "outputId": "ae34cef8-d924-4a19-c71f-4ad8c779e75d"
      },
      "execution_count": 41,
      "outputs": [
        {
          "output_type": "stream",
          "name": "stdout",
          "text": [
            "test_acc: 0.4\n"
          ]
        }
      ]
    },
    {
      "cell_type": "code",
      "source": [
        "cm2"
      ],
      "metadata": {
        "colab": {
          "base_uri": "https://localhost:8080/"
        },
        "id": "mdJ0DzGF_PeX",
        "outputId": "720f9bde-fe82-48e8-a150-d99696136364"
      },
      "execution_count": 42,
      "outputs": [
        {
          "output_type": "execute_result",
          "data": {
            "text/plain": [
              "array([[12,  8],\n",
              "       [13,  2]])"
            ]
          },
          "metadata": {},
          "execution_count": 42
        }
      ]
    },
    {
      "cell_type": "code",
      "source": [
        "#Visualizing the results of Confusion matrix\n",
        "sns.heatmap(cm2, annot = True, fmt = 'g')\n",
        "plt.title(\"Confusion Matrix\", fontsize = 20)"
      ],
      "metadata": {
        "id": "8qGrOddWkb7J",
        "outputId": "e24f4750-3a6f-4848-da9e-8a8a12eaed32",
        "colab": {
          "base_uri": "https://localhost:8080/",
          "height": 305
        }
      },
      "execution_count": 43,
      "outputs": [
        {
          "output_type": "execute_result",
          "data": {
            "text/plain": [
              "Text(0.5, 1.0, 'Confusion Matrix')"
            ]
          },
          "metadata": {},
          "execution_count": 43
        },
        {
          "output_type": "display_data",
          "data": {
            "image/png": "[encoded data removed]",
            "text/plain": [
              "<Figure size 432x288 with 2 Axes>"
            ]
          },
          "metadata": {
            "needs_background": "light"
          }
        }
      ]
    },
    {
      "cell_type": "code",
      "source": [
        "# Printing the Classification Report of hypertuned model \n",
        "print(classification_report(y_true, y_pred, target_names=target_names))"
      ],
      "metadata": {
        "colab": {
          "base_uri": "https://localhost:8080/"
        },
        "id": "AStrbDWRB_LS",
        "outputId": "09fd77a0-fdc4-4b63-d3e1-626c436c5a7c"
      },
      "execution_count": 38,
      "outputs": [
        {
          "output_type": "stream",
          "name": "stdout",
          "text": [
            "              precision    recall  f1-score   support\n",
            "\n",
            "      caries       0.48      0.60      0.53        20\n",
            "     healthy       0.20      0.13      0.16        15\n",
            "\n",
            "    accuracy                           0.40        35\n",
            "   macro avg       0.34      0.37      0.35        35\n",
            "weighted avg       0.36      0.40      0.37        35\n",
            "\n"
          ]
        }
      ]
    },
    {
      "cell_type": "code",
      "metadata": {
        "id": "3my6BPqy09i1"
      },
      "source": [
        "# Saving the Baseline Model \n",
        "model.save(\"model.h5\")"
      ],
      "execution_count": 39,
      "outputs": []
    },
    {
      "cell_type": "code",
      "source": [
        "# Saving the Final Model \n",
        "h_model.save(\"h_model.h5\")"
      ],
      "metadata": {
        "id": "ZpuznNDxGUNk"
      },
      "execution_count": 40,
      "outputs": []
    }
  ]
}